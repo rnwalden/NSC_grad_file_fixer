{
 "cells": [
  {
   "cell_type": "code",
   "execution_count": 1,
   "id": "9ab957ff-e9cc-4fc7-b8f0-fb3fe11f393b",
   "metadata": {},
   "outputs": [],
   "source": [
    "import tkinter\n",
    "from tkinter import filedialog\n",
    "import os\n",
    "\n",
    "\n",
    "\n",
    "def search_for_file_path ():\n",
    "    root = tkinter.Tk()\n",
    "    root.withdraw() #use to hide tkinter window\n",
    "    currdir = os.getcwd()\n",
    "    tempfile = filedialog.askopenfilename(parent=root, initialdir=currdir, title='Please select a file')\n",
    "    if len(tempfile) > 0:\n",
    "        print (\"You chose: %s\" % tempfile)\n",
    "        \n",
    "    return tempfile\n",
    "\n",
    "def folder_path_for_corrected_files ():\n",
    "    root = tkinter.Tk()\n",
    "    root.withdraw() #use to hide tkinter window\n",
    "    currdir = os.getcwd()   \n",
    "    tempdir = filedialog.askdirectory(parent=root, initialdir=currdir, title='Please select a directory')\n",
    "    if len(tempdir) > 0:\n",
    "        print (\"You chose: %s\" % tempdir)    \n",
    "        \n",
    "    return tempdir\n",
    "\n",
    "def get_grad_date():\n",
    "    for x in list_of_records:\n",
    "        for y in x:\n",
    "            if y[0] == 'DTP' and y[1] == '007':\n",
    "                grad_date = y[3]\n",
    "\n",
    "                return grad_date\n",
    "        \n",
    "############\n",
    "#filetoread = search_for_file_path ()\n",
    "#write_to_new_file = folder_path_for_corrected_files()\n",
    "#grad_date = input('enter grad date: ')\n",
    "#filetoread = 'sfrnslc_1853615.txt'\n",
    "#grad_date = get_grad_date() #'20220525'\n",
    "###########\n",
    "\n",
    "\n",
    "def sepr8_file_sections(filetoread):\n",
    "    file_headers = []\n",
    "    file_records = []\n",
    "    file_footer = []\n",
    "\n",
    "    with open(filetoread, \"r\") as f:\n",
    "        for x in f:\n",
    "            if x.startswith('ISA|') or x.startswith('GS|'):\n",
    "                x = x.strip('\\n')\n",
    "                file_headers.append(x)\n",
    "            elif x.startswith('GE|') or x.startswith('IEA|'):\n",
    "                x = x.strip('\\n')\n",
    "                file_footer.append(x)\n",
    "            else:\n",
    "                x = x.strip('\\n')\n",
    "                file_records.append(x)\n",
    "                \n",
    "    return file_headers,file_records,file_footer\n",
    "\n",
    "##############\n",
    "#file_headers,file_records,file_footer = sepr8_file_sections(filetoread)\n",
    "##############\n",
    "\n",
    "\n",
    "def parse_student_records(file_records):\n",
    "    record_rows_start = []\n",
    "    record_rows_end = []\n",
    "    \n",
    "    for i,x in enumerate(file_records):\n",
    "\n",
    "        if x.startswith('ST|'):\n",
    "            record_rows_start.append(i)\n",
    "        elif x.startswith('SE|'):\n",
    "            record_rows_end.append((i+1))\n",
    "\n",
    "    group_records = zip(record_rows_start,record_rows_end)\n",
    "\n",
    "    list_of_records = []\n",
    "\n",
    "    record_number = 0\n",
    "    for start,end in group_records:\n",
    "        record_number += 1\n",
    "        record_set = []\n",
    "        for i,x in enumerate(file_records[start:end]):\n",
    "            x = x.split('|')\n",
    "            record_set.append(x)\n",
    "        list_of_records.append(record_set)\n",
    "        \n",
    "    return list_of_records\n",
    "\n",
    "###############\n",
    "#list_of_records = parse_student_records(file_records)\n",
    "###############\n",
    "\n",
    "\n",
    "def generate_list_problem_records():\n",
    "    student_major_info = []\n",
    "    \n",
    "    for i,student_record in enumerate(list_of_records):\n",
    "        student_fos2 = []\n",
    "        if student_record[2][1] != 'EB4':\n",
    "            for x in student_record:\n",
    "                if x[0] == 'ENT' and x[1] == '03':\n",
    "                    student_id = x[4]\n",
    "                if x[0] == 'FOS' and x[1] == 'M':\n",
    "                    student_fos_cipc = x[3]\n",
    "                    student_fos_major = x[4]\n",
    "                if x[0] == 'FOS' and x[1] == 'P' and x[3] == student_fos_cipc:\n",
    "                    student_fos2.append(x[6])\n",
    "                        \n",
    "            student_major_info.append([i,student_record[2][1],student_id,student_fos_cipc,student_fos_major,student_fos2[0]])\n",
    "        \n",
    "    return student_major_info\n",
    "\n",
    "def write_failed_record_logs(content_to_write):\n",
    "    file_path = f'{write_new_file_to}/failed_records.txt'\n",
    "    with open(file_path, \"w\") as f:\n",
    "        first_line = f\"These records required intervention, number of records: {len(content_to_write)}\"\n",
    "        print(first_line,file = f)\n",
    "        for x in content_to_write:\n",
    "            print(x,file = f)\n",
    "            \n",
    "#####################\n",
    "#problem_records = generate_list_problem_records()\n",
    "#write_failed_record_logs(problem_records)\n",
    "#print(problem_records)\n",
    "#for x in problem_records:\n",
    "#    print(x)\n",
    "#####################    \n",
    "\n",
    "    \n",
    "def fix_student_record(list_of_records,record_number,grad_date):\n",
    "    x = list_of_records[record_number]\n",
    "    \n",
    "    #correct ENR line update to EB4, clear expected grad date, update grad date\n",
    "    if x[2][0] == 'ENR' and x[2][1] != 'EB4':\n",
    "        x[2][1] = 'EB4'\n",
    "        x[2][3] = ''\n",
    "        x[2][4] = ''\n",
    "        #x[2][13] = grad_date\n",
    "    \n",
    "    #add DTP row\n",
    "    if x[4][0] != 'DTP':      \n",
    "        list_of_records[record_number].insert(4,['DTP','007','D8',grad_date]) #used date variable here\n",
    "    \n",
    "    #correct second ENR line\n",
    "    for line in x:\n",
    "        if line[0] == 'ENR' and line[1] != 'EB4' and line[1] != 'EB3':\n",
    "            line[1] = 'EB4'\n",
    "            line[13] = grad_date\n",
    "    \n",
    "    #correct row count\n",
    "    row_count = len(x)\n",
    "    if x[(row_count-1)][0] == 'SE':\n",
    "        x[(row_count-1)][1] = str(row_count)\n",
    "    else:\n",
    "        print('error updating row count for record number',record_number)\n",
    "        \n",
    "#############\n",
    "# Need a for loop to fix all problem records need switch to decide when to delete\n",
    "#fix_student_record(list_of_records,902,grad_date)\n",
    "#############\n",
    "\n",
    "\n",
    "def fix_line_count_record_num():\n",
    "    for i,x in enumerate(list_of_records):\n",
    "        record_number_formatted = str((i+1)).zfill(9)\n",
    "        record_line_count = len(x)\n",
    "        record_last_line = (len(x)-1)\n",
    "\n",
    "        x[0][2] = str(record_number_formatted)\n",
    "        x[1][2] = str(record_number_formatted)\n",
    "        x[(len(x)-1)][1] = str(record_line_count)\n",
    "        x[(len(x)-1)][2] = str(record_number_formatted)\n",
    "        \n",
    "#########        \n",
    "#fix_line_count_record_num()\n",
    "###########\n",
    "\n",
    "\n",
    "def parse_footer_file():\n",
    "    parsed_footer = []\n",
    "    for i,x in enumerate(file_footer):\n",
    "        parsed_footer.append(x.split('|'))\n",
    "\n",
    "    return parsed_footer\n",
    "\n",
    "########        \n",
    "#parsed_footer = parse_footer_file()\n",
    "########\n",
    "\n",
    "\n",
    "def update_footer_line_count():\n",
    "    for i,x in enumerate(parsed_footer):\n",
    "        if x[0] == 'GE':\n",
    "            x[1] = str(len(list_of_records))\n",
    "            \n",
    "\n",
    "def write_submit_file(file_headers,list_of_records,file_footer):\n",
    "    file_path = f'{write_new_file_to}/00111300.clr'\n",
    "    with open(file_path, \"w\") as f:\n",
    "        for x in file_headers:\n",
    "            print(x,file = f)\n",
    "\n",
    "        for x in list_of_records:\n",
    "            for y in x:\n",
    "                print('|'.join(y),file = f)\n",
    "\n",
    "        for x in file_footer:\n",
    "            print('|'.join(x),file = f)\n",
    "            \n",
    "#########\n",
    "#write_submit_file(file_headers,list_of_records,file_footer)\n",
    "#########"
   ]
  },
  {
   "cell_type": "code",
   "execution_count": 2,
   "id": "912c5e2e-3ce3-4564-9904-4521df5a2dee",
   "metadata": {
    "tags": []
   },
   "outputs": [
    {
     "name": "stdout",
     "output_type": "stream",
     "text": [
      "You chose: C:/Users/rwalden/PyOracle/NCH_grad_file_checker/sfrnslc_1853615.txt\n",
      "You chose: C:/Users/rwalden/PyOracle/NCH_grad_file_checker\n"
     ]
    }
   ],
   "source": [
    "# obtain user variables\n",
    "filetoread = search_for_file_path ()\n",
    "write_new_file_to = folder_path_for_corrected_files()"
   ]
  },
  {
   "cell_type": "code",
   "execution_count": 3,
   "id": "972c82b8-000c-4898-9063-d4b8dfb7f233",
   "metadata": {
    "tags": []
   },
   "outputs": [],
   "source": [
    "# read file break into header records and footer\n",
    "file_headers,file_records,file_footer = sepr8_file_sections(filetoread)\n",
    "# parse the records for processing\n",
    "list_of_records = parse_student_records(file_records)\n",
    "# get grad date from file\n",
    "grad_date = get_grad_date()\n",
    "#grad_date = input('enter grad date: ')"
   ]
  },
  {
   "cell_type": "code",
   "execution_count": 4,
   "id": "f9d94aaa-03dd-48cc-9e69-4b26c9a7ced5",
   "metadata": {
    "tags": []
   },
   "outputs": [],
   "source": [
    "#generate a list of records with an error\n",
    "problem_records = generate_list_problem_records()\n",
    "#write records to file for review\n",
    "write_failed_record_logs(problem_records)\n",
    "#for x in problem_records:\n",
    "    #print(x)"
   ]
  },
  {
   "cell_type": "code",
   "execution_count": 5,
   "id": "ad2e2e7b-e1b6-4398-b2a2-d32999b2a91c",
   "metadata": {
    "tags": []
   },
   "outputs": [],
   "source": [
    "#fix the records\n",
    "problem_records = generate_list_problem_records()\n",
    "for x in problem_records:\n",
    "    fix_student_record(list_of_records,x[0],grad_date)\n",
    "    "
   ]
  },
  {
   "cell_type": "code",
   "execution_count": 6,
   "id": "06efc232-5f12-4260-8402-d0560bae38e1",
   "metadata": {
    "scrolled": true,
    "tags": []
   },
   "outputs": [],
   "source": [
    "#fix the record line counts\n",
    "fix_line_count_record_num()"
   ]
  },
  {
   "cell_type": "code",
   "execution_count": 7,
   "id": "8dfefd8f-a90e-4f4a-8e6f-f68b486029c4",
   "metadata": {},
   "outputs": [],
   "source": [
    "#fix the footer report line count\n",
    "parsed_footer = parse_footer_file()\n",
    "update_footer_line_count()"
   ]
  },
  {
   "cell_type": "code",
   "execution_count": 8,
   "id": "ce0ce221-97a1-4971-ac8f-977cb82465e1",
   "metadata": {},
   "outputs": [],
   "source": [
    "#write the corrected file to disk\n",
    "write_submit_file(file_headers,list_of_records,parsed_footer)"
   ]
  },
  {
   "cell_type": "code",
   "execution_count": null,
   "id": "164a1b3c-91be-47de-aac6-a8b8e6a11e89",
   "metadata": {},
   "outputs": [],
   "source": []
  },
  {
   "cell_type": "code",
   "execution_count": null,
   "id": "086b62f9-7c29-40bf-ac8f-4878beab8efd",
   "metadata": {},
   "outputs": [],
   "source": []
  },
  {
   "cell_type": "code",
   "execution_count": null,
   "id": "1c9144a1-6f1f-41ce-bfcb-4665b597bdd7",
   "metadata": {},
   "outputs": [],
   "source": []
  },
  {
   "cell_type": "code",
   "execution_count": null,
   "id": "9cbb8a92-c87e-4f4a-b525-fcf920bc6613",
   "metadata": {},
   "outputs": [],
   "source": [
    "#list_of_records[489]"
   ]
  },
  {
   "cell_type": "code",
   "execution_count": null,
   "id": "b51609c3-a067-4ed5-a88e-e625a0f9b96b",
   "metadata": {},
   "outputs": [],
   "source": []
  },
  {
   "cell_type": "raw",
   "id": "08989d4e-2c7b-430d-bd8c-a167072aa642",
   "metadata": {},
   "source": []
  },
  {
   "cell_type": "code",
   "execution_count": 4,
   "id": "5ba65b9a-6943-4b2d-8223-e7c9efc36c25",
   "metadata": {},
   "outputs": [],
   "source": [
    "def generate_list_problem_records():\n",
    "    #problem_records = []\n",
    "    student_major_info = []\n",
    "    \n",
    "    for i,student_record in enumerate(list_of_records):\n",
    "        student_fos2 = []\n",
    "        if student_record[2][1] != 'EB4':\n",
    "            for x in student_record:\n",
    "                if x[0] == 'ENT' and x[1] == '03':\n",
    "                    student_id = x[4]\n",
    "                if x[0] == 'FOS' and x[1] == 'M':\n",
    "                    student_fos_cipc = x[3]\n",
    "                    student_fos_major = x[4]\n",
    "                if x[0] == 'FOS' and x[1] == 'P' and x[3] == student_fos_cipc:\n",
    "                    student_fos2.append(x[6])\n",
    "                        \n",
    "            student_major_info.append([i,student_record[2][1],student_id,student_fos_cipc,student_fos_major,student_fos2[0]])\n",
    "        \n",
    "    return student_major_info"
   ]
  },
  {
   "cell_type": "code",
   "execution_count": 11,
   "id": "be161d37-7fce-4a3e-99ec-5c5da292077e",
   "metadata": {},
   "outputs": [],
   "source": [
    "def write_failed_record_logs(content_to_write):\n",
    "    file_path = f'{write_new_file_to}/failed_records.txt'\n",
    "    with open(file_path, \"w\") as f:\n",
    "        first_line = f\"These records required intervention, number of records: {len(content_to_write)}\"\n",
    "        print(first_line,file = f)\n",
    "        for x in content_to_write:\n",
    "            print(x,file = f)"
   ]
  },
  {
   "cell_type": "code",
   "execution_count": 41,
   "id": "fe79b5af-4dfc-443a-8427-58fa3199e225",
   "metadata": {},
   "outputs": [],
   "source": [
    "#working towards deleting from problem list those which will be removed from report\n",
    "def find_records_to_del(problem_records):\n",
    "    problem_records = generate_list_problem_records()\n",
    "    list_to_delete = ['8','11']\n",
    "    for i,x in enumerate(problem_records):\n",
    "        #print(x)\n",
    "        if x[0] in list_to_delete:\n",
    "            print(x[0])\n",
    "            print(i,problem_records[x])\n",
    "            #del problem_records[x]\n",
    "            \n",
    "    return problem_records"
   ]
  },
  {
   "cell_type": "code",
   "execution_count": 42,
   "id": "cf4e82c2-b693-4457-8f41-ff982e2d1c70",
   "metadata": {
    "scrolled": true,
    "tags": []
   },
   "outputs": [
    {
     "name": "stdout",
     "output_type": "stream",
     "text": [
      "323\n",
      "323\n"
     ]
    }
   ],
   "source": [
    "problem_records = generate_list_problem_records()\n",
    "\n",
    "#write_failed_record_logs(problem_records)\n",
    "\n",
    "\n",
    "print(len(problem_records))\n",
    "problem_records = find_records_to_del(problem_records)\n",
    "#del problem_records[901]\n",
    "print(len(problem_records))\n",
    "#for x in problem_records:\n",
    "    #print(x)"
   ]
  },
  {
   "cell_type": "code",
   "execution_count": null,
   "id": "babf88ea-67a8-4e0e-9958-098236b875c8",
   "metadata": {},
   "outputs": [],
   "source": []
  },
  {
   "cell_type": "code",
   "execution_count": 19,
   "id": "f32e7b67-ad43-4ce2-9dba-a891c0bb3dbc",
   "metadata": {},
   "outputs": [
    {
     "data": {
      "text/plain": [
       "'20220507'"
      ]
     },
     "execution_count": 19,
     "metadata": {},
     "output_type": "execute_result"
    }
   ],
   "source": [
    "\n",
    "\n",
    "def get_grad_date():\n",
    "    for x in list_of_records:\n",
    "        for y in x:\n",
    "            if y[0] == 'DTP' and y[1] == '007':\n",
    "                grad_date = y[3]\n",
    "\n",
    "                return grad_date\n",
    "        \n",
    "    \n",
    "    \n",
    "get_grad_date()"
   ]
  },
  {
   "cell_type": "code",
   "execution_count": null,
   "id": "52c8f930-dad6-42e9-a614-6e95874b112f",
   "metadata": {},
   "outputs": [],
   "source": []
  },
  {
   "cell_type": "raw",
   "id": "6aebdb4c-705d-4724-b57e-166d3e282c85",
   "metadata": {},
   "source": [
    "print(file_headers,file_footer)"
   ]
  },
  {
   "cell_type": "raw",
   "id": "6ed06272-4a0a-4025-83af-08d471fcf791",
   "metadata": {},
   "source": [
    "for x in file_headers:\n",
    "    print(x)"
   ]
  },
  {
   "cell_type": "raw",
   "id": "7302d3f0-b574-4418-bbc8-dec5e3e83ff2",
   "metadata": {
    "tags": []
   },
   "source": [
    "#print the problem records\n",
    "#problem_records = generate_list_problem_records()\n",
    "#for x in problem_records:\n",
    "    #print(x)"
   ]
  },
  {
   "cell_type": "raw",
   "id": "2ed3c9f2-32fa-403b-93ce-4bd7dd808d49",
   "metadata": {},
   "source": [
    "def parse_footer_file():\n",
    "    parsed_footer = []\n",
    "    for i,x in enumerate(file_footer):\n",
    "        print(x)\n",
    "        parsed_footer.append(x.split('|'))\n",
    "\n",
    "    return parsed_footer\n",
    "        \n",
    "parsed_footer = parse_footer_file()\n",
    "\n",
    "print(len(list_of_records))\n",
    "print(parsed_footer)\n",
    "def update_footer_line_count():\n",
    "    for i,x in enumerate(parsed_footer):\n",
    "        print(x)\n",
    "        if x[0] == 'GE':\n",
    "            x[1] = len(list_of_records)\n",
    "            \n",
    "    print(parsed_footer)\n",
    "\n",
    "#print('|'.join(file_footer))"
   ]
  }
 ],
 "metadata": {
  "kernelspec": {
   "display_name": "Python 3 (ipykernel)",
   "language": "python",
   "name": "python3"
  },
  "language_info": {
   "codemirror_mode": {
    "name": "ipython",
    "version": 3
   },
   "file_extension": ".py",
   "mimetype": "text/x-python",
   "name": "python",
   "nbconvert_exporter": "python",
   "pygments_lexer": "ipython3",
   "version": "3.8.12"
  }
 },
 "nbformat": 4,
 "nbformat_minor": 5
}
